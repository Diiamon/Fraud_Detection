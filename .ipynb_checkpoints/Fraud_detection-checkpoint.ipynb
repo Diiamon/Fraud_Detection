{
 "cells": [
  {
   "cell_type": "markdown",
   "id": "e53a900f-c939-4b9c-be6d-3d657fdfd17c",
   "metadata": {
    "id": "e53a900f-c939-4b9c-be6d-3d657fdfd17c"
   },
   "source": [
    "## 1. Data Collection & Preprocessing\n",
    "### Download & Load the Dataset\n",
    "Download the Synthetic Financial Datasets for Fraud Detection from Kaggle.\n",
    "\n",
    "Load it into Pandas using Python."
   ]
  },
  {
   "cell_type": "code",
   "execution_count": 18,
   "id": "d72004ba-ac16-4dd5-b768-84146f67511c",
   "metadata": {
    "id": "d72004ba-ac16-4dd5-b768-84146f67511c"
   },
   "outputs": [],
   "source": [
    "# import kagglehub\n",
    "\n",
    "# # Download latest version\n",
    "# path = kagglehub.dataset_download(\"ealaxi/paysim1\")\n",
    "\n",
    "# print(\"Path to dataset files:\", path)"
   ]
  },
  {
   "cell_type": "code",
   "execution_count": 19,
   "id": "2568a1da-5d00-40d0-9acd-88ed729bbb1a",
   "metadata": {
    "colab": {
     "base_uri": "https://localhost:8080/",
     "height": 206
    },
    "id": "2568a1da-5d00-40d0-9acd-88ed729bbb1a",
    "outputId": "421dc4d8-9772-4b85-dce8-ade1274b04cc"
   },
   "outputs": [
    {
     "data": {
      "text/html": [
       "<div>\n",
       "<style scoped>\n",
       "    .dataframe tbody tr th:only-of-type {\n",
       "        vertical-align: middle;\n",
       "    }\n",
       "\n",
       "    .dataframe tbody tr th {\n",
       "        vertical-align: top;\n",
       "    }\n",
       "\n",
       "    .dataframe thead th {\n",
       "        text-align: right;\n",
       "    }\n",
       "</style>\n",
       "<table border=\"1\" class=\"dataframe\">\n",
       "  <thead>\n",
       "    <tr style=\"text-align: right;\">\n",
       "      <th></th>\n",
       "      <th>step</th>\n",
       "      <th>type</th>\n",
       "      <th>amount</th>\n",
       "      <th>nameOrig</th>\n",
       "      <th>oldbalanceOrg</th>\n",
       "      <th>newbalanceOrig</th>\n",
       "      <th>nameDest</th>\n",
       "      <th>oldbalanceDest</th>\n",
       "      <th>newbalanceDest</th>\n",
       "      <th>isFraud</th>\n",
       "      <th>isFlaggedFraud</th>\n",
       "    </tr>\n",
       "  </thead>\n",
       "  <tbody>\n",
       "    <tr>\n",
       "      <th>0</th>\n",
       "      <td>1</td>\n",
       "      <td>PAYMENT</td>\n",
       "      <td>9839.64</td>\n",
       "      <td>C1231006815</td>\n",
       "      <td>170136.0</td>\n",
       "      <td>160296.36</td>\n",
       "      <td>M1979787155</td>\n",
       "      <td>0.0</td>\n",
       "      <td>0.0</td>\n",
       "      <td>0</td>\n",
       "      <td>0</td>\n",
       "    </tr>\n",
       "    <tr>\n",
       "      <th>1</th>\n",
       "      <td>1</td>\n",
       "      <td>PAYMENT</td>\n",
       "      <td>1864.28</td>\n",
       "      <td>C1666544295</td>\n",
       "      <td>21249.0</td>\n",
       "      <td>19384.72</td>\n",
       "      <td>M2044282225</td>\n",
       "      <td>0.0</td>\n",
       "      <td>0.0</td>\n",
       "      <td>0</td>\n",
       "      <td>0</td>\n",
       "    </tr>\n",
       "    <tr>\n",
       "      <th>2</th>\n",
       "      <td>1</td>\n",
       "      <td>TRANSFER</td>\n",
       "      <td>181.00</td>\n",
       "      <td>C1305486145</td>\n",
       "      <td>181.0</td>\n",
       "      <td>0.00</td>\n",
       "      <td>C553264065</td>\n",
       "      <td>0.0</td>\n",
       "      <td>0.0</td>\n",
       "      <td>1</td>\n",
       "      <td>0</td>\n",
       "    </tr>\n",
       "    <tr>\n",
       "      <th>3</th>\n",
       "      <td>1</td>\n",
       "      <td>CASH_OUT</td>\n",
       "      <td>181.00</td>\n",
       "      <td>C840083671</td>\n",
       "      <td>181.0</td>\n",
       "      <td>0.00</td>\n",
       "      <td>C38997010</td>\n",
       "      <td>21182.0</td>\n",
       "      <td>0.0</td>\n",
       "      <td>1</td>\n",
       "      <td>0</td>\n",
       "    </tr>\n",
       "    <tr>\n",
       "      <th>4</th>\n",
       "      <td>1</td>\n",
       "      <td>PAYMENT</td>\n",
       "      <td>11668.14</td>\n",
       "      <td>C2048537720</td>\n",
       "      <td>41554.0</td>\n",
       "      <td>29885.86</td>\n",
       "      <td>M1230701703</td>\n",
       "      <td>0.0</td>\n",
       "      <td>0.0</td>\n",
       "      <td>0</td>\n",
       "      <td>0</td>\n",
       "    </tr>\n",
       "  </tbody>\n",
       "</table>\n",
       "</div>"
      ],
      "text/plain": [
       "   step      type    amount     nameOrig  oldbalanceOrg  newbalanceOrig  \\\n",
       "0     1   PAYMENT   9839.64  C1231006815       170136.0       160296.36   \n",
       "1     1   PAYMENT   1864.28  C1666544295        21249.0        19384.72   \n",
       "2     1  TRANSFER    181.00  C1305486145          181.0            0.00   \n",
       "3     1  CASH_OUT    181.00   C840083671          181.0            0.00   \n",
       "4     1   PAYMENT  11668.14  C2048537720        41554.0        29885.86   \n",
       "\n",
       "      nameDest  oldbalanceDest  newbalanceDest  isFraud  isFlaggedFraud  \n",
       "0  M1979787155             0.0             0.0        0               0  \n",
       "1  M2044282225             0.0             0.0        0               0  \n",
       "2   C553264065             0.0             0.0        1               0  \n",
       "3    C38997010         21182.0             0.0        1               0  \n",
       "4  M1230701703             0.0             0.0        0               0  "
      ]
     },
     "execution_count": 19,
     "metadata": {},
     "output_type": "execute_result"
    }
   ],
   "source": [
    "import pandas as pd\n",
    "\n",
    "# Load dataset\n",
    "df = pd.read_csv('PS_20174392719_1491204439457_log.csv')\n",
    "\n",
    "# Display the first few rows\n",
    "df.head()"
   ]
  },
  {
   "cell_type": "markdown",
   "id": "17ac2275-6090-4e0d-8a4a-b32f61acd6b7",
   "metadata": {
    "id": "17ac2275-6090-4e0d-8a4a-b32f61acd6b7"
   },
   "source": [
    "### Understand the Data\n",
    "Check column names, data types, and missing values.\n",
    "\n",
    "Perform Exploratory Data Analysis (EDA) to understand trends."
   ]
  },
  {
   "cell_type": "code",
   "execution_count": 21,
   "id": "cf52ebc7-1276-4a5e-b400-b9d584ae7769",
   "metadata": {
    "colab": {
     "base_uri": "https://localhost:8080/"
    },
    "id": "cf52ebc7-1276-4a5e-b400-b9d584ae7769",
    "outputId": "6a6f0198-f4f7-4811-92a4-edf334c1fe17"
   },
   "outputs": [
    {
     "name": "stdout",
     "output_type": "stream",
     "text": [
      "<class 'pandas.core.frame.DataFrame'>\n",
      "RangeIndex: 6362620 entries, 0 to 6362619\n",
      "Data columns (total 11 columns):\n",
      " #   Column          Dtype  \n",
      "---  ------          -----  \n",
      " 0   step            int64  \n",
      " 1   type            object \n",
      " 2   amount          float64\n",
      " 3   nameOrig        object \n",
      " 4   oldbalanceOrg   float64\n",
      " 5   newbalanceOrig  float64\n",
      " 6   nameDest        object \n",
      " 7   oldbalanceDest  float64\n",
      " 8   newbalanceDest  float64\n",
      " 9   isFraud         int64  \n",
      " 10  isFlaggedFraud  int64  \n",
      "dtypes: float64(5), int64(3), object(3)\n",
      "memory usage: 534.0+ MB\n",
      "None\n"
     ]
    }
   ],
   "source": [
    "print(df.info()) # Check data types and missing values"
   ]
  },
  {
   "cell_type": "code",
   "execution_count": 22,
   "id": "a77a9a38-dd3c-4978-b08f-831ceda471df",
   "metadata": {
    "colab": {
     "base_uri": "https://localhost:8080/"
    },
    "id": "a77a9a38-dd3c-4978-b08f-831ceda471df",
    "outputId": "3c170091-13d8-4e55-bb9c-f548732a807b"
   },
   "outputs": [
    {
     "name": "stdout",
     "output_type": "stream",
     "text": [
      "               step        amount  oldbalanceOrg  newbalanceOrig  \\\n",
      "count  6.362620e+06  6.362620e+06   6.362620e+06    6.362620e+06   \n",
      "mean   2.433972e+02  1.798619e+05   8.338831e+05    8.551137e+05   \n",
      "std    1.423320e+02  6.038582e+05   2.888243e+06    2.924049e+06   \n",
      "min    1.000000e+00  0.000000e+00   0.000000e+00    0.000000e+00   \n",
      "25%    1.560000e+02  1.338957e+04   0.000000e+00    0.000000e+00   \n",
      "50%    2.390000e+02  7.487194e+04   1.420800e+04    0.000000e+00   \n",
      "75%    3.350000e+02  2.087215e+05   1.073152e+05    1.442584e+05   \n",
      "max    7.430000e+02  9.244552e+07   5.958504e+07    4.958504e+07   \n",
      "\n",
      "       oldbalanceDest  newbalanceDest       isFraud  isFlaggedFraud  \n",
      "count    6.362620e+06    6.362620e+06  6.362620e+06    6.362620e+06  \n",
      "mean     1.100702e+06    1.224996e+06  1.290820e-03    2.514687e-06  \n",
      "std      3.399180e+06    3.674129e+06  3.590480e-02    1.585775e-03  \n",
      "min      0.000000e+00    0.000000e+00  0.000000e+00    0.000000e+00  \n",
      "25%      0.000000e+00    0.000000e+00  0.000000e+00    0.000000e+00  \n",
      "50%      1.327057e+05    2.146614e+05  0.000000e+00    0.000000e+00  \n",
      "75%      9.430367e+05    1.111909e+06  0.000000e+00    0.000000e+00  \n",
      "max      3.560159e+08    3.561793e+08  1.000000e+00    1.000000e+00  \n"
     ]
    }
   ],
   "source": [
    "print(df.describe())  # Get summary statistics"
   ]
  },
  {
   "cell_type": "code",
   "execution_count": 23,
   "id": "7a79ee9d-3077-423c-8a9b-2443aea8aa44",
   "metadata": {
    "colab": {
     "base_uri": "https://localhost:8080/"
    },
    "id": "7a79ee9d-3077-423c-8a9b-2443aea8aa44",
    "outputId": "a4e57df3-2a20-4b0b-fd65-ac346002b26d"
   },
   "outputs": [
    {
     "name": "stdout",
     "output_type": "stream",
     "text": [
      "step              0\n",
      "type              0\n",
      "amount            0\n",
      "nameOrig          0\n",
      "oldbalanceOrg     0\n",
      "newbalanceOrig    0\n",
      "nameDest          0\n",
      "oldbalanceDest    0\n",
      "newbalanceDest    0\n",
      "isFraud           0\n",
      "isFlaggedFraud    0\n",
      "dtype: int64\n"
     ]
    }
   ],
   "source": [
    "print(df.isnull().sum())  # Identify missing values"
   ]
  },
  {
   "cell_type": "code",
   "execution_count": 24,
   "id": "933140ac-ee69-40d2-b56e-775e7a8a9c23",
   "metadata": {
    "colab": {
     "base_uri": "https://localhost:8080/"
    },
    "id": "933140ac-ee69-40d2-b56e-775e7a8a9c23",
    "outputId": "fa53437a-fa9d-4583-b302-ac9a88612542"
   },
   "outputs": [
    {
     "name": "stdout",
     "output_type": "stream",
     "text": [
      "type\n",
      "CASH_OUT    2237500\n",
      "PAYMENT     2151495\n",
      "CASH_IN     1399284\n",
      "TRANSFER     532909\n",
      "DEBIT         41432\n",
      "Name: count, dtype: int64\n"
     ]
    }
   ],
   "source": [
    "print(df['type'].value_counts())  # Check transaction types"
   ]
  },
  {
   "cell_type": "markdown",
   "id": "eee354ed-72d6-45d0-8fa0-42ca2da6dfc5",
   "metadata": {
    "id": "eee354ed-72d6-45d0-8fa0-42ca2da6dfc5"
   },
   "source": [
    "### Feature Engineering\n",
    "Convert timestamps if needed.\n",
    "\n",
    "Create new features such as:\n",
    "> Transaction velocity (Number of transactions per user in a short period)\n",
    ">\n",
    "> Average transaction amount per user\n",
    ">\n",
    "> Flags for unusual transactions (Large amounts, rapid transactions, etc.)"
   ]
  },
  {
   "cell_type": "markdown",
   "id": "20324f3d-baa0-4dca-9749-a46668fc8fec",
   "metadata": {
    "id": "20324f3d-baa0-4dca-9749-a46668fc8fec"
   },
   "source": [
    "#### 1. Convert Timestamps if Needed\n",
    "The dataset has a step column, which represents time in hours from the start of the dataset (not a traditional timestamp).\n",
    "\n",
    "Can be converted into days or group it into periods (e.g., morning, afternoon, night)."
   ]
  },
  {
   "cell_type": "code",
   "execution_count": 27,
   "id": "fcf9f7c6-46dc-47f0-a403-47aa1917756a",
   "metadata": {
    "id": "fcf9f7c6-46dc-47f0-a403-47aa1917756a"
   },
   "outputs": [],
   "source": [
    "df['day'] = df['step'] // 24  # Convert hours to days\n",
    "df['hour'] = df['step'] % 24  # Extract the hour of the day\n",
    "df['time_of_day'] = pd.cut(df['hour'], bins=[0, 6, 12, 18, 24], labels=['Night', 'Morning', 'Afternoon', 'Evening'])"
   ]
  },
  {
   "cell_type": "markdown",
   "id": "39758502-dd8c-41cf-ad05-3a595cccfdac",
   "metadata": {
    "id": "39758502-dd8c-41cf-ad05-3a595cccfdac"
   },
   "source": [
    "#### 2. Transaction Velocity\n",
    "Calculate the number of transactions per user in a short period (e.g., per day).\n",
    "\n",
    "This helps detect fraudsters who quickly move money."
   ]
  },
  {
   "cell_type": "code",
   "execution_count": 29,
   "id": "11566242-49e7-45a9-858f-a551b1b73402",
   "metadata": {
    "id": "11566242-49e7-45a9-858f-a551b1b73402"
   },
   "outputs": [],
   "source": [
    "df['transactions_per_day'] = df.groupby(['nameOrig', 'day'])['step'].transform('count')"
   ]
  },
  {
   "cell_type": "markdown",
   "id": "a1cbc404-c7f5-470c-9904-4d5da762f996",
   "metadata": {
    "id": "a1cbc404-c7f5-470c-9904-4d5da762f996"
   },
   "source": [
    "#### 3. Average Transaction Amount per User\n",
    "If a user suddenly transfers an unusually high amount, it might be fraud."
   ]
  },
  {
   "cell_type": "code",
   "execution_count": 31,
   "id": "9d54b109-0490-41e3-a8c4-e7efe380077e",
   "metadata": {
    "id": "9d54b109-0490-41e3-a8c4-e7efe380077e"
   },
   "outputs": [],
   "source": [
    "df['avg_transaction_amount'] = df.groupby('nameOrig')['amount'].transform('mean')"
   ]
  },
  {
   "cell_type": "markdown",
   "id": "09b78dde-967c-4012-a14e-8eb9ef31ece3",
   "metadata": {
    "id": "09b78dde-967c-4012-a14e-8eb9ef31ece3"
   },
   "source": [
    "#### 4. Flag Unusual Transactions\n",
    "Large transactions: If the amount is above the 95th percentile, flag it.\n",
    "\n",
    "Low balance after transaction: If the balance becomes close to zero.\n",
    "\n",
    "Multiple transactions in a short time: Flag if transactions per hour exceed a threshold."
   ]
  },
  {
   "cell_type": "code",
   "execution_count": 33,
   "id": "f7438868-43d0-402c-92a2-500ffa8322a0",
   "metadata": {
    "id": "f7438868-43d0-402c-92a2-500ffa8322a0"
   },
   "outputs": [],
   "source": [
    "# Flag large transactions\n",
    "threshold = df['amount'].quantile(0.95)\n",
    "df['large_transaction'] = (df['amount'] > threshold).astype(int)\n",
    "\n",
    "# Flag low balance after transaction\n",
    "df['low_balance'] = (df['newbalanceOrig'] < df['amount'] * 0.1).astype(int)\n",
    "\n",
    "# Count transactions per user per hour\n",
    "df['transactions_per_hour'] = df.groupby(['nameOrig', 'hour'])['step'].transform('count')\n",
    "\n",
    "# Flag users who made more than 5 transactions in the same hour\n",
    "df['rapid_transactions'] = (df['transactions_per_hour'] > 5).astype(int)"
   ]
  },
  {
   "cell_type": "markdown",
   "id": "1976575b-8d2d-4ef3-96bc-5bee5aff1a21",
   "metadata": {
    "id": "1976575b-8d2d-4ef3-96bc-5bee5aff1a21"
   },
   "source": [
    "#### 5. Create Derived Features\n",
    "Balance change ratio: Measures how much a transaction changes a user’s balance.\n",
    "\n",
    "Destination account type: Identify suspicious accounts receiving money."
   ]
  },
  {
   "cell_type": "code",
   "execution_count": 35,
   "id": "51f81af6-c79f-45d6-83fd-6025d412bc28",
   "metadata": {
    "id": "51f81af6-c79f-45d6-83fd-6025d412bc28"
   },
   "outputs": [],
   "source": [
    "# Ratio of amount transferred compared to original balance\n",
    "df['balance_change_ratio'] = df['amount'] / (df['oldbalanceOrg'] + 1)  # Add 1 to avoid division by zero\n",
    "\n",
    "# Flag if the recipient name looks like a business (usually starts with \"M\")\n",
    "df['is_business_dest'] = df['nameDest'].str.startswith('M').astype(int)"
   ]
  },
  {
   "cell_type": "markdown",
   "id": "2d2191f1-de6f-4602-8789-1fd2343d5add",
   "metadata": {
    "id": "2d2191f1-de6f-4602-8789-1fd2343d5add"
   },
   "source": [
    "#### Final Check"
   ]
  },
  {
   "cell_type": "code",
   "execution_count": 37,
   "id": "24d0c094-635b-4446-94a1-8b973c4e7bad",
   "metadata": {
    "colab": {
     "base_uri": "https://localhost:8080/",
     "height": 206
    },
    "id": "24d0c094-635b-4446-94a1-8b973c4e7bad",
    "outputId": "934406e2-624a-4150-82cc-efbcca11cb4a"
   },
   "outputs": [
    {
     "data": {
      "text/html": [
       "<div>\n",
       "<style scoped>\n",
       "    .dataframe tbody tr th:only-of-type {\n",
       "        vertical-align: middle;\n",
       "    }\n",
       "\n",
       "    .dataframe tbody tr th {\n",
       "        vertical-align: top;\n",
       "    }\n",
       "\n",
       "    .dataframe thead th {\n",
       "        text-align: right;\n",
       "    }\n",
       "</style>\n",
       "<table border=\"1\" class=\"dataframe\">\n",
       "  <thead>\n",
       "    <tr style=\"text-align: right;\">\n",
       "      <th></th>\n",
       "      <th>amount</th>\n",
       "      <th>avg_transaction_amount</th>\n",
       "      <th>large_transaction</th>\n",
       "      <th>transactions_per_day</th>\n",
       "      <th>transactions_per_hour</th>\n",
       "      <th>rapid_transactions</th>\n",
       "      <th>low_balance</th>\n",
       "      <th>balance_change_ratio</th>\n",
       "      <th>is_business_dest</th>\n",
       "    </tr>\n",
       "  </thead>\n",
       "  <tbody>\n",
       "    <tr>\n",
       "      <th>0</th>\n",
       "      <td>9839.64</td>\n",
       "      <td>9839.64</td>\n",
       "      <td>0</td>\n",
       "      <td>1</td>\n",
       "      <td>1</td>\n",
       "      <td>0</td>\n",
       "      <td>0</td>\n",
       "      <td>0.057834</td>\n",
       "      <td>1</td>\n",
       "    </tr>\n",
       "    <tr>\n",
       "      <th>1</th>\n",
       "      <td>1864.28</td>\n",
       "      <td>1864.28</td>\n",
       "      <td>0</td>\n",
       "      <td>1</td>\n",
       "      <td>1</td>\n",
       "      <td>0</td>\n",
       "      <td>0</td>\n",
       "      <td>0.087731</td>\n",
       "      <td>1</td>\n",
       "    </tr>\n",
       "    <tr>\n",
       "      <th>2</th>\n",
       "      <td>181.00</td>\n",
       "      <td>181.00</td>\n",
       "      <td>0</td>\n",
       "      <td>1</td>\n",
       "      <td>1</td>\n",
       "      <td>0</td>\n",
       "      <td>1</td>\n",
       "      <td>0.994505</td>\n",
       "      <td>0</td>\n",
       "    </tr>\n",
       "    <tr>\n",
       "      <th>3</th>\n",
       "      <td>181.00</td>\n",
       "      <td>181.00</td>\n",
       "      <td>0</td>\n",
       "      <td>1</td>\n",
       "      <td>1</td>\n",
       "      <td>0</td>\n",
       "      <td>1</td>\n",
       "      <td>0.994505</td>\n",
       "      <td>0</td>\n",
       "    </tr>\n",
       "    <tr>\n",
       "      <th>4</th>\n",
       "      <td>11668.14</td>\n",
       "      <td>11668.14</td>\n",
       "      <td>0</td>\n",
       "      <td>1</td>\n",
       "      <td>1</td>\n",
       "      <td>0</td>\n",
       "      <td>0</td>\n",
       "      <td>0.280788</td>\n",
       "      <td>1</td>\n",
       "    </tr>\n",
       "  </tbody>\n",
       "</table>\n",
       "</div>"
      ],
      "text/plain": [
       "     amount  avg_transaction_amount  large_transaction  transactions_per_day  \\\n",
       "0   9839.64                 9839.64                  0                     1   \n",
       "1   1864.28                 1864.28                  0                     1   \n",
       "2    181.00                  181.00                  0                     1   \n",
       "3    181.00                  181.00                  0                     1   \n",
       "4  11668.14                11668.14                  0                     1   \n",
       "\n",
       "   transactions_per_hour  rapid_transactions  low_balance  \\\n",
       "0                      1                   0            0   \n",
       "1                      1                   0            0   \n",
       "2                      1                   0            1   \n",
       "3                      1                   0            1   \n",
       "4                      1                   0            0   \n",
       "\n",
       "   balance_change_ratio  is_business_dest  \n",
       "0              0.057834                 1  \n",
       "1              0.087731                 1  \n",
       "2              0.994505                 0  \n",
       "3              0.994505                 0  \n",
       "4              0.280788                 1  "
      ]
     },
     "execution_count": 37,
     "metadata": {},
     "output_type": "execute_result"
    }
   ],
   "source": [
    "df[['amount', 'avg_transaction_amount', 'large_transaction', 'transactions_per_day', 'transactions_per_hour', 'rapid_transactions', 'low_balance', 'balance_change_ratio', 'is_business_dest']].head()"
   ]
  },
  {
   "cell_type": "code",
   "execution_count": 38,
   "id": "9519972c-71d2-47da-8209-b18768aecf97",
   "metadata": {
    "colab": {
     "base_uri": "https://localhost:8080/",
     "height": 256
    },
    "id": "9519972c-71d2-47da-8209-b18768aecf97",
    "outputId": "15d4d6fd-c543-417a-ee5a-0e6ef799147b"
   },
   "outputs": [
    {
     "data": {
      "text/html": [
       "<div>\n",
       "<style scoped>\n",
       "    .dataframe tbody tr th:only-of-type {\n",
       "        vertical-align: middle;\n",
       "    }\n",
       "\n",
       "    .dataframe tbody tr th {\n",
       "        vertical-align: top;\n",
       "    }\n",
       "\n",
       "    .dataframe thead th {\n",
       "        text-align: right;\n",
       "    }\n",
       "</style>\n",
       "<table border=\"1\" class=\"dataframe\">\n",
       "  <thead>\n",
       "    <tr style=\"text-align: right;\">\n",
       "      <th></th>\n",
       "      <th>step</th>\n",
       "      <th>type</th>\n",
       "      <th>amount</th>\n",
       "      <th>nameOrig</th>\n",
       "      <th>oldbalanceOrg</th>\n",
       "      <th>newbalanceOrig</th>\n",
       "      <th>nameDest</th>\n",
       "      <th>oldbalanceDest</th>\n",
       "      <th>newbalanceDest</th>\n",
       "      <th>isFraud</th>\n",
       "      <th>...</th>\n",
       "      <th>hour</th>\n",
       "      <th>time_of_day</th>\n",
       "      <th>transactions_per_day</th>\n",
       "      <th>avg_transaction_amount</th>\n",
       "      <th>large_transaction</th>\n",
       "      <th>low_balance</th>\n",
       "      <th>transactions_per_hour</th>\n",
       "      <th>rapid_transactions</th>\n",
       "      <th>balance_change_ratio</th>\n",
       "      <th>is_business_dest</th>\n",
       "    </tr>\n",
       "  </thead>\n",
       "  <tbody>\n",
       "    <tr>\n",
       "      <th>0</th>\n",
       "      <td>1</td>\n",
       "      <td>PAYMENT</td>\n",
       "      <td>9839.64</td>\n",
       "      <td>C1231006815</td>\n",
       "      <td>170136.0</td>\n",
       "      <td>160296.36</td>\n",
       "      <td>M1979787155</td>\n",
       "      <td>0.0</td>\n",
       "      <td>0.0</td>\n",
       "      <td>0</td>\n",
       "      <td>...</td>\n",
       "      <td>1</td>\n",
       "      <td>Night</td>\n",
       "      <td>1</td>\n",
       "      <td>9839.64</td>\n",
       "      <td>0</td>\n",
       "      <td>0</td>\n",
       "      <td>1</td>\n",
       "      <td>0</td>\n",
       "      <td>0.057834</td>\n",
       "      <td>1</td>\n",
       "    </tr>\n",
       "    <tr>\n",
       "      <th>1</th>\n",
       "      <td>1</td>\n",
       "      <td>PAYMENT</td>\n",
       "      <td>1864.28</td>\n",
       "      <td>C1666544295</td>\n",
       "      <td>21249.0</td>\n",
       "      <td>19384.72</td>\n",
       "      <td>M2044282225</td>\n",
       "      <td>0.0</td>\n",
       "      <td>0.0</td>\n",
       "      <td>0</td>\n",
       "      <td>...</td>\n",
       "      <td>1</td>\n",
       "      <td>Night</td>\n",
       "      <td>1</td>\n",
       "      <td>1864.28</td>\n",
       "      <td>0</td>\n",
       "      <td>0</td>\n",
       "      <td>1</td>\n",
       "      <td>0</td>\n",
       "      <td>0.087731</td>\n",
       "      <td>1</td>\n",
       "    </tr>\n",
       "    <tr>\n",
       "      <th>2</th>\n",
       "      <td>1</td>\n",
       "      <td>TRANSFER</td>\n",
       "      <td>181.00</td>\n",
       "      <td>C1305486145</td>\n",
       "      <td>181.0</td>\n",
       "      <td>0.00</td>\n",
       "      <td>C553264065</td>\n",
       "      <td>0.0</td>\n",
       "      <td>0.0</td>\n",
       "      <td>1</td>\n",
       "      <td>...</td>\n",
       "      <td>1</td>\n",
       "      <td>Night</td>\n",
       "      <td>1</td>\n",
       "      <td>181.00</td>\n",
       "      <td>0</td>\n",
       "      <td>1</td>\n",
       "      <td>1</td>\n",
       "      <td>0</td>\n",
       "      <td>0.994505</td>\n",
       "      <td>0</td>\n",
       "    </tr>\n",
       "    <tr>\n",
       "      <th>3</th>\n",
       "      <td>1</td>\n",
       "      <td>CASH_OUT</td>\n",
       "      <td>181.00</td>\n",
       "      <td>C840083671</td>\n",
       "      <td>181.0</td>\n",
       "      <td>0.00</td>\n",
       "      <td>C38997010</td>\n",
       "      <td>21182.0</td>\n",
       "      <td>0.0</td>\n",
       "      <td>1</td>\n",
       "      <td>...</td>\n",
       "      <td>1</td>\n",
       "      <td>Night</td>\n",
       "      <td>1</td>\n",
       "      <td>181.00</td>\n",
       "      <td>0</td>\n",
       "      <td>1</td>\n",
       "      <td>1</td>\n",
       "      <td>0</td>\n",
       "      <td>0.994505</td>\n",
       "      <td>0</td>\n",
       "    </tr>\n",
       "    <tr>\n",
       "      <th>4</th>\n",
       "      <td>1</td>\n",
       "      <td>PAYMENT</td>\n",
       "      <td>11668.14</td>\n",
       "      <td>C2048537720</td>\n",
       "      <td>41554.0</td>\n",
       "      <td>29885.86</td>\n",
       "      <td>M1230701703</td>\n",
       "      <td>0.0</td>\n",
       "      <td>0.0</td>\n",
       "      <td>0</td>\n",
       "      <td>...</td>\n",
       "      <td>1</td>\n",
       "      <td>Night</td>\n",
       "      <td>1</td>\n",
       "      <td>11668.14</td>\n",
       "      <td>0</td>\n",
       "      <td>0</td>\n",
       "      <td>1</td>\n",
       "      <td>0</td>\n",
       "      <td>0.280788</td>\n",
       "      <td>1</td>\n",
       "    </tr>\n",
       "  </tbody>\n",
       "</table>\n",
       "<p>5 rows × 22 columns</p>\n",
       "</div>"
      ],
      "text/plain": [
       "   step      type    amount     nameOrig  oldbalanceOrg  newbalanceOrig  \\\n",
       "0     1   PAYMENT   9839.64  C1231006815       170136.0       160296.36   \n",
       "1     1   PAYMENT   1864.28  C1666544295        21249.0        19384.72   \n",
       "2     1  TRANSFER    181.00  C1305486145          181.0            0.00   \n",
       "3     1  CASH_OUT    181.00   C840083671          181.0            0.00   \n",
       "4     1   PAYMENT  11668.14  C2048537720        41554.0        29885.86   \n",
       "\n",
       "      nameDest  oldbalanceDest  newbalanceDest  isFraud  ...  hour  \\\n",
       "0  M1979787155             0.0             0.0        0  ...     1   \n",
       "1  M2044282225             0.0             0.0        0  ...     1   \n",
       "2   C553264065             0.0             0.0        1  ...     1   \n",
       "3    C38997010         21182.0             0.0        1  ...     1   \n",
       "4  M1230701703             0.0             0.0        0  ...     1   \n",
       "\n",
       "   time_of_day  transactions_per_day avg_transaction_amount  \\\n",
       "0        Night                     1                9839.64   \n",
       "1        Night                     1                1864.28   \n",
       "2        Night                     1                 181.00   \n",
       "3        Night                     1                 181.00   \n",
       "4        Night                     1               11668.14   \n",
       "\n",
       "   large_transaction  low_balance  transactions_per_hour  rapid_transactions  \\\n",
       "0                  0            0                      1                   0   \n",
       "1                  0            0                      1                   0   \n",
       "2                  0            1                      1                   0   \n",
       "3                  0            1                      1                   0   \n",
       "4                  0            0                      1                   0   \n",
       "\n",
       "   balance_change_ratio  is_business_dest  \n",
       "0              0.057834                 1  \n",
       "1              0.087731                 1  \n",
       "2              0.994505                 0  \n",
       "3              0.994505                 0  \n",
       "4              0.280788                 1  \n",
       "\n",
       "[5 rows x 22 columns]"
      ]
     },
     "execution_count": 38,
     "metadata": {},
     "output_type": "execute_result"
    }
   ],
   "source": [
    "df.head()"
   ]
  },
  {
   "cell_type": "code",
   "execution_count": 39,
   "id": "3e8c24f3-656d-491c-8f70-d7c037b26c19",
   "metadata": {
    "colab": {
     "base_uri": "https://localhost:8080/"
    },
    "id": "3e8c24f3-656d-491c-8f70-d7c037b26c19",
    "outputId": "b666546a-191c-4d69-f958-bea6826f3b0c"
   },
   "outputs": [
    {
     "data": {
      "text/plain": [
       "Index(['step', 'type', 'amount', 'nameOrig', 'oldbalanceOrg', 'newbalanceOrig',\n",
       "       'nameDest', 'oldbalanceDest', 'newbalanceDest', 'isFraud',\n",
       "       'isFlaggedFraud', 'day', 'hour', 'time_of_day', 'transactions_per_day',\n",
       "       'avg_transaction_amount', 'large_transaction', 'low_balance',\n",
       "       'transactions_per_hour', 'rapid_transactions', 'balance_change_ratio',\n",
       "       'is_business_dest'],\n",
       "      dtype='object')"
      ]
     },
     "execution_count": 39,
     "metadata": {},
     "output_type": "execute_result"
    }
   ],
   "source": [
    "df.columns"
   ]
  },
  {
   "cell_type": "markdown",
   "id": "c311462a-31a2-477f-a9fd-e9b01fe5da06",
   "metadata": {
    "id": "c311462a-31a2-477f-a9fd-e9b01fe5da06"
   },
   "source": [
    "## 2. Data Cleaning & Transformation\n",
    "### Remove Unnecessary Columns\n",
    "Some columns don’t contribute much to fraud detection and should be removed:"
   ]
  },
  {
   "cell_type": "code",
   "execution_count": 41,
   "id": "ef392d0d-1674-4414-9700-85af02b3f1f4",
   "metadata": {
    "id": "ef392d0d-1674-4414-9700-85af02b3f1f4"
   },
   "outputs": [],
   "source": [
    "df_2 = df.copy()"
   ]
  },
  {
   "cell_type": "code",
   "execution_count": 42,
   "id": "76a263a1-721d-4f5a-8989-eedbcbdf73c1",
   "metadata": {
    "id": "76a263a1-721d-4f5a-8989-eedbcbdf73c1"
   },
   "outputs": [],
   "source": [
    "df_2.drop([\"nameOrig\", \"nameDest\"], axis=1, inplace=True)  # Remove sender/receiver names since fraud detection is based on transaction behavior, not user IDs."
   ]
  },
  {
   "cell_type": "markdown",
   "id": "c291f1db-335f-4b0f-8357-47ef9deb57b1",
   "metadata": {
    "id": "c291f1db-335f-4b0f-8357-47ef9deb57b1"
   },
   "source": [
    "### Convert Categorical Data\n",
    "Convert categorical variables (type, time_of_day) into numerical values."
   ]
  },
  {
   "cell_type": "code",
   "execution_count": 44,
   "id": "33e63367-9f11-4271-96ba-e55403ba9d5e",
   "metadata": {
    "id": "33e63367-9f11-4271-96ba-e55403ba9d5e"
   },
   "outputs": [],
   "source": [
    "from sklearn.preprocessing import LabelEncoder\n",
    "\n",
    "le = LabelEncoder()\n",
    "df_2['type'] = le.fit_transform(df['type'])  # Encode transaction type\n",
    "df_2['time_of_day'] = le.fit_transform(df['time_of_day'])  # Encode time of day\n",
    "df_2['is_business_dest'] = df['is_business_dest'].astype(int)  # Convert to binary"
   ]
  },
  {
   "cell_type": "markdown",
   "id": "92c12be7-20d2-4d5a-827f-8d46a2e89738",
   "metadata": {
    "id": "92c12be7-20d2-4d5a-827f-8d46a2e89738"
   },
   "source": [
    "### Handle Missing Data\n",
    "Check if any missing values exist:"
   ]
  },
  {
   "cell_type": "code",
   "execution_count": 46,
   "id": "98493938-8050-47f9-aa07-86440b2c323d",
   "metadata": {
    "colab": {
     "base_uri": "https://localhost:8080/"
    },
    "id": "98493938-8050-47f9-aa07-86440b2c323d",
    "outputId": "81c26cee-454a-4be1-f7bd-ef1b2007f91a"
   },
   "outputs": [
    {
     "name": "stdout",
     "output_type": "stream",
     "text": [
      "step                      0\n",
      "type                      0\n",
      "amount                    0\n",
      "oldbalanceOrg             0\n",
      "newbalanceOrig            0\n",
      "oldbalanceDest            0\n",
      "newbalanceDest            0\n",
      "isFraud                   0\n",
      "isFlaggedFraud            0\n",
      "day                       0\n",
      "hour                      0\n",
      "time_of_day               0\n",
      "transactions_per_day      0\n",
      "avg_transaction_amount    0\n",
      "large_transaction         0\n",
      "low_balance               0\n",
      "transactions_per_hour     0\n",
      "rapid_transactions        0\n",
      "balance_change_ratio      0\n",
      "is_business_dest          0\n",
      "dtype: int64\n"
     ]
    }
   ],
   "source": [
    "print(df_2.isnull().sum())  # Check missing values"
   ]
  },
  {
   "cell_type": "markdown",
   "id": "3ea5399a-0a48-4350-95f7-57d2daf0b250",
   "metadata": {
    "id": "3ea5399a-0a48-4350-95f7-57d2daf0b250"
   },
   "source": [
    "If there are few missing values, fill them with the median or mode.\n",
    "\n",
    "If a column has too many or too little missing values, consider removing it."
   ]
  },
  {
   "cell_type": "code",
   "execution_count": 48,
   "id": "RUn3tOtXcthz",
   "metadata": {
    "id": "RUn3tOtXcthz"
   },
   "outputs": [],
   "source": [
    "# Drop rows with missing values in 'isFraud' and 'isFlaggedFraud'\n",
    "df_2 = df_2.dropna(subset=['isFraud', 'isFlaggedFraud'])"
   ]
  },
  {
   "cell_type": "code",
   "execution_count": 49,
   "id": "sOH4Tep2c4G3",
   "metadata": {
    "colab": {
     "base_uri": "https://localhost:8080/"
    },
    "id": "sOH4Tep2c4G3",
    "outputId": "20420db8-de3e-4f23-c26a-25419c530931"
   },
   "outputs": [
    {
     "name": "stdout",
     "output_type": "stream",
     "text": [
      "step                      0\n",
      "type                      0\n",
      "amount                    0\n",
      "oldbalanceOrg             0\n",
      "newbalanceOrig            0\n",
      "oldbalanceDest            0\n",
      "newbalanceDest            0\n",
      "isFraud                   0\n",
      "isFlaggedFraud            0\n",
      "day                       0\n",
      "hour                      0\n",
      "time_of_day               0\n",
      "transactions_per_day      0\n",
      "avg_transaction_amount    0\n",
      "large_transaction         0\n",
      "low_balance               0\n",
      "transactions_per_hour     0\n",
      "rapid_transactions        0\n",
      "balance_change_ratio      0\n",
      "is_business_dest          0\n",
      "dtype: int64\n"
     ]
    }
   ],
   "source": [
    "print(df_2.isnull().sum())  # Check missing values"
   ]
  },
  {
   "cell_type": "markdown",
   "id": "4b772627-2518-4954-8a0d-608c653f76f4",
   "metadata": {
    "id": "4b772627-2518-4954-8a0d-608c653f76f4"
   },
   "source": [
    "### Handle Imbalanced Data\n",
    "Fraud cases are rare, so we need to balance them using SMOTE\n",
    "\n",
    "This prevents the model from always predicting \"Not Fraud\"."
   ]
  },
  {
   "cell_type": "code",
   "execution_count": 51,
   "id": "6b0255b2-79f2-4a7f-816c-83d8fe9cc756",
   "metadata": {
    "id": "6b0255b2-79f2-4a7f-816c-83d8fe9cc756"
   },
   "outputs": [],
   "source": [
    "from imblearn.over_sampling import SMOTE\n",
    "\n",
    "X = df_2.drop(\"isFraud\", axis=1)  # Features\n",
    "y = df_2[\"isFraud\"]  # Target\n",
    "\n",
    "smote = SMOTE()\n",
    "X_resampled, y_resampled = smote.fit_resample(X, y)  # Synthetic minority oversampling"
   ]
  },
  {
   "cell_type": "code",
   "execution_count": 52,
   "id": "653b540f-d7c7-4cb1-b603-e07f018538b7",
   "metadata": {
    "colab": {
     "base_uri": "https://localhost:8080/"
    },
    "id": "653b540f-d7c7-4cb1-b603-e07f018538b7",
    "outputId": "571009c7-f4c4-43d1-99fc-a94018aebc13"
   },
   "outputs": [
    {
     "name": "stdout",
     "output_type": "stream",
     "text": [
      "Class distribution after SMOTE:\n",
      "isFraud\n",
      "0    6354407\n",
      "1    6354407\n",
      "Name: count, dtype: int64\n"
     ]
    }
   ],
   "source": [
    "# Check the balance of the target variable after applying SMOTE\n",
    "print(\"Class distribution after SMOTE:\")\n",
    "print(pd.Series(y_resampled).value_counts())"
   ]
  },
  {
   "cell_type": "markdown",
   "id": "61bd7071-ebcf-481f-8f83-94c8c89be5e6",
   "metadata": {
    "id": "61bd7071-ebcf-481f-8f83-94c8c89be5e6"
   },
   "source": [
    "## Anomaly & Fraud Detection\n",
    "### Train Machine Learning Models\n",
    "We’ll use two approaches:\n",
    "\n",
    "> Anomaly Detection (Unsupervised) - Detects unusual transactions.\n",
    "\n",
    "> Fraud Classification (Supervised) - Classifies transactions as fraudulent or not."
   ]
  },
  {
   "cell_type": "markdown",
   "id": "699b383a-9ec1-41cb-844e-cc0e4409c327",
   "metadata": {
    "id": "699b383a-9ec1-41cb-844e-cc0e4409c327"
   },
   "source": [
    "#### Anomaly Detection (Isolation Forest & LOF)\n",
    "Useful for detecting suspicious transactions without knowing fraud labels."
   ]
  },
  {
   "cell_type": "code",
   "execution_count": 55,
   "id": "840ea73a-ab06-4118-a92a-52f8d7536c31",
   "metadata": {
    "id": "840ea73a-ab06-4118-a92a-52f8d7536c31"
   },
   "outputs": [],
   "source": [
    "from sklearn.ensemble import IsolationForest\n",
    "\n",
    "iso_forest = IsolationForest(contamination=0.01, random_state=42)\n",
    "df_2[\"anomaly_score\"] = iso_forest.fit_predict(df_2.drop(\"isFraud\", axis=1))  # Detect anomalies"
   ]
  },
  {
   "cell_type": "markdown",
   "id": "7304ece7-6fde-4990-8342-a5e43bdc7f44",
   "metadata": {
    "id": "7304ece7-6fde-4990-8342-a5e43bdc7f44"
   },
   "source": [
    "#### Supervised Fraud Detection (Random Forest/XGBoost)\n",
    "Now we train a fraud detection model:"
   ]
  },
  {
   "cell_type": "code",
   "execution_count": 57,
   "id": "0464e1b8-6549-4682-baba-646c693cd230",
   "metadata": {
    "colab": {
     "base_uri": "https://localhost:8080/"
    },
    "id": "0464e1b8-6549-4682-baba-646c693cd230",
    "outputId": "71b1ae36-8e7b-41c6-c7ee-05c3be21979d"
   },
   "outputs": [
    {
     "name": "stdout",
     "output_type": "stream",
     "text": [
      "              precision    recall  f1-score   support\n",
      "\n",
      "           0       1.00      1.00      1.00   1270837\n",
      "           1       1.00      1.00      1.00   1270926\n",
      "\n",
      "    accuracy                           1.00   2541763\n",
      "   macro avg       1.00      1.00      1.00   2541763\n",
      "weighted avg       1.00      1.00      1.00   2541763\n",
      "\n"
     ]
    }
   ],
   "source": [
    "from sklearn.model_selection import train_test_split\n",
    "from sklearn.ensemble import RandomForestClassifier\n",
    "from sklearn.metrics import classification_report\n",
    "\n",
    "# Train-test split\n",
    "X_train, X_test, y_train, y_test = train_test_split(X_resampled, y_resampled, test_size=0.2, random_state=42)\n",
    "\n",
    "# Train model\n",
    "rf_model = RandomForestClassifier(n_estimators=3, random_state=42)\n",
    "rf_model.fit(X_train, y_train)\n",
    "\n",
    "# Predictions\n",
    "y_pred = rf_model.predict(X_test)\n",
    "\n",
    "# Evaluate\n",
    "print(classification_report(y_test, y_pred))"
   ]
  },
  {
   "cell_type": "markdown",
   "id": "bmZP7Y5-dO8F",
   "metadata": {
    "id": "bmZP7Y5-dO8F"
   },
   "source": [
    "### Feature Importance:\n",
    "\n",
    "Using feature importance from Random Forest or XGBoost to identify which features are contributing most to the model’s predictions. If a feature is overly important it can lead to overfitting, consider removing it."
   ]
  },
  {
   "cell_type": "code",
   "execution_count": 59,
   "id": "611693da-7f3f-4d78-a672-5c06a4786614",
   "metadata": {
    "colab": {
     "base_uri": "https://localhost:8080/",
     "height": 449
    },
    "id": "611693da-7f3f-4d78-a672-5c06a4786614",
    "outputId": "7d35fb3e-a166-4558-c78c-f52cc7102248"
   },
   "outputs": [
    {
     "data": {
      "image/png": "[encoded data removed]",
      "text/plain": [
       "<Figure size 640x480 with 1 Axes>"
      ]
     },
     "metadata": {},
     "output_type": "display_data"
    }
   ],
   "source": [
    "import matplotlib.pyplot as plt\n",
    "\n",
    "# Get feature importances\n",
    "feature_importances = rf_model.feature_importances_\n",
    "\n",
    "# Plot the feature importances\n",
    "plt.barh(X_train.columns, feature_importances)\n",
    "plt.xlabel('Feature Importance')\n",
    "plt.ylabel('Feature')\n",
    "plt.show()"
   ]
  },
  {
   "cell_type": "code",
   "execution_count": 60,
   "id": "b8bb4c39-426b-4038-9b78-06d2b24619a8",
   "metadata": {
    "colab": {
     "base_uri": "https://localhost:8080/"
    },
    "id": "b8bb4c39-426b-4038-9b78-06d2b24619a8",
    "outputId": "22e180ad-3b84-4cf7-caa3-1a7727be2183"
   },
   "outputs": [
    {
     "name": "stdout",
     "output_type": "stream",
     "text": [
      "              precision    recall  f1-score   support\n",
      "\n",
      "           0       1.00      0.99      0.99   1270837\n",
      "           1       0.99      1.00      0.99   1270926\n",
      "\n",
      "    accuracy                           0.99   2541763\n",
      "   macro avg       0.99      0.99      0.99   2541763\n",
      "weighted avg       0.99      0.99      0.99   2541763\n",
      "\n"
     ]
    }
   ],
   "source": [
    "from sklearn.model_selection import train_test_split\n",
    "from sklearn.ensemble import RandomForestClassifier\n",
    "from sklearn.metrics import classification_report\n",
    "\n",
    "X_resampled = X_resampled.drop(['balance_change_ratio','newbalanceOrig','oldbalanceOrg','transactions_per_hour',\n",
    "       'rapid_transactions','day', 'time_of_day', 'transactions_per_day','large_transaction','isFlaggedFraud','type','is_business_dest'], axis=1)\n",
    "\n",
    "\n",
    "# Train-test split\n",
    "X_train, X_test, y_train, y_test = train_test_split(X_resampled, y_resampled, test_size=0.2, random_state=42)\n",
    "\n",
    "# Train model\n",
    "rf_model = RandomForestClassifier(n_estimators=3, random_state=42)\n",
    "rf_model.fit(X_train, y_train)\n",
    "\n",
    "# Predictions\n",
    "y_pred = rf_model.predict(X_test)\n",
    "\n",
    "# Evaluate\n",
    "print(classification_report(y_test, y_pred))"
   ]
  },
  {
   "cell_type": "code",
   "execution_count": 61,
   "id": "XLFGb8gPermi",
   "metadata": {
    "colab": {
     "base_uri": "https://localhost:8080/"
    },
    "id": "XLFGb8gPermi",
    "outputId": "1a949f6c-f9bb-4784-9340-eba4c20158de"
   },
   "outputs": [
    {
     "name": "stdout",
     "output_type": "stream",
     "text": [
      "Index(['step', 'type', 'amount', 'nameOrig', 'oldbalanceOrg', 'newbalanceOrig',\n",
      "       'nameDest', 'oldbalanceDest', 'newbalanceDest', 'isFraud',\n",
      "       'isFlaggedFraud', 'day', 'hour', 'time_of_day', 'transactions_per_day',\n",
      "       'avg_transaction_amount', 'large_transaction', 'low_balance',\n",
      "       'transactions_per_hour', 'rapid_transactions', 'balance_change_ratio',\n",
      "       'is_business_dest'],\n",
      "      dtype='object')\n",
      "Index(['step', 'type', 'amount', 'oldbalanceOrg', 'newbalanceOrig',\n",
      "       'oldbalanceDest', 'newbalanceDest', 'isFraud', 'isFlaggedFraud', 'day',\n",
      "       'hour', 'time_of_day', 'transactions_per_day', 'avg_transaction_amount',\n",
      "       'large_transaction', 'low_balance', 'transactions_per_hour',\n",
      "       'rapid_transactions', 'balance_change_ratio', 'is_business_dest',\n",
      "       'anomaly_score'],\n",
      "      dtype='object')\n"
     ]
    }
   ],
   "source": [
    "print(df.columns)\n",
    "print(df_2.columns)"
   ]
  },
  {
   "cell_type": "code",
   "execution_count": 63,
   "id": "4YtfpIiRgDIe",
   "metadata": {
    "id": "4YtfpIiRgDIe"
   },
   "outputs": [
    {
     "name": "stdout",
     "output_type": "stream",
     "text": [
      "          step        amount  oldbalanceDest  newbalanceDest  hour  \\\n",
      "1029741     49  3.288520e+03    0.000000e+00    0.000000e+00     1   \n",
      "511674      20  2.379909e+05    2.510337e+05    4.890246e+05    20   \n",
      "1450041    140  6.883440e+04    8.212638e+05    7.524294e+05    20   \n",
      "7396148    361  8.067368e+05    0.000000e+00    8.067368e+05     9   \n",
      "10742064   589  3.676297e+05    0.000000e+00    0.000000e+00    11   \n",
      "...        ...           ...             ...             ...   ...   \n",
      "2234489    186  2.459700e+03    0.000000e+00    0.000000e+00    18   \n",
      "4304572    307  7.302076e+04    2.561028e+05    3.291236e+05    19   \n",
      "10081351    49  3.939348e+06    1.912562e+06    5.790976e+06    12   \n",
      "6550634    268  8.727373e+05    0.000000e+00    0.000000e+00     5   \n",
      "6423388    351  5.827665e+06    0.000000e+00    0.000000e+00     8   \n",
      "\n",
      "          avg_transaction_amount  low_balance  \n",
      "1029741             3.288520e+03            0  \n",
      "511674              2.379909e+05            1  \n",
      "1450041             6.883440e+04            0  \n",
      "7396148             8.067368e+05            1  \n",
      "10742064            3.676297e+05            1  \n",
      "...                          ...          ...  \n",
      "2234489             2.459700e+03            1  \n",
      "4304572             7.302076e+04            1  \n",
      "10081351            3.939348e+06            1  \n",
      "6550634             8.727373e+05            1  \n",
      "6423388             5.827665e+06            1  \n",
      "\n",
      "[10167051 rows x 7 columns]\n"
     ]
    },
    {
     "ename": "AttributeError",
     "evalue": "'Series' object has no attribute 'columns'",
     "output_type": "error",
     "traceback": [
      "\u001b[1;31m---------------------------------------------------------------------------\u001b[0m",
      "\u001b[1;31mAttributeError\u001b[0m                            Traceback (most recent call last)",
      "\u001b[1;32m~\\AppData\\Local\\Temp\\ipykernel_11172\\2135163329.py\u001b[0m in \u001b[0;36m?\u001b[1;34m()\u001b[0m\n\u001b[1;32m----> 2\u001b[1;33m \u001b[0mprint\u001b[0m\u001b[1;33m(\u001b[0m\u001b[0mX_train\u001b[0m\u001b[1;33m)\u001b[0m\u001b[1;33m\u001b[0m\u001b[1;33m\u001b[0m\u001b[0m\n\u001b[0m\u001b[0;32m      3\u001b[0m \u001b[0mprint\u001b[0m\u001b[1;33m(\u001b[0m\u001b[0my_train\u001b[0m\u001b[1;33m.\u001b[0m\u001b[0mcolumns\u001b[0m\u001b[1;33m)\u001b[0m\u001b[1;33m\u001b[0m\u001b[1;33m\u001b[0m\u001b[0m\n",
      "\u001b[1;32m~\\anaconda3\\lib\\site-packages\\pandas\\core\\generic.py\u001b[0m in \u001b[0;36m?\u001b[1;34m(self, name)\u001b[0m\n\u001b[0;32m   6295\u001b[0m             \u001b[1;32mand\u001b[0m \u001b[0mname\u001b[0m \u001b[1;32mnot\u001b[0m \u001b[1;32min\u001b[0m \u001b[0mself\u001b[0m\u001b[1;33m.\u001b[0m\u001b[0m_accessors\u001b[0m\u001b[1;33m\u001b[0m\u001b[1;33m\u001b[0m\u001b[0m\n\u001b[0;32m   6296\u001b[0m             \u001b[1;32mand\u001b[0m \u001b[0mself\u001b[0m\u001b[1;33m.\u001b[0m\u001b[0m_info_axis\u001b[0m\u001b[1;33m.\u001b[0m\u001b[0m_can_hold_identifiers_and_holds_name\u001b[0m\u001b[1;33m(\u001b[0m\u001b[0mname\u001b[0m\u001b[1;33m)\u001b[0m\u001b[1;33m\u001b[0m\u001b[1;33m\u001b[0m\u001b[0m\n\u001b[0;32m   6297\u001b[0m         ):\n\u001b[0;32m   6298\u001b[0m             \u001b[1;32mreturn\u001b[0m \u001b[0mself\u001b[0m\u001b[1;33m[\u001b[0m\u001b[0mname\u001b[0m\u001b[1;33m]\u001b[0m\u001b[1;33m\u001b[0m\u001b[1;33m\u001b[0m\u001b[0m\n\u001b[1;32m-> 6299\u001b[1;33m         \u001b[1;32mreturn\u001b[0m \u001b[0mobject\u001b[0m\u001b[1;33m.\u001b[0m\u001b[0m__getattribute__\u001b[0m\u001b[1;33m(\u001b[0m\u001b[0mself\u001b[0m\u001b[1;33m,\u001b[0m \u001b[0mname\u001b[0m\u001b[1;33m)\u001b[0m\u001b[1;33m\u001b[0m\u001b[1;33m\u001b[0m\u001b[0m\n\u001b[0m",
      "\u001b[1;31mAttributeError\u001b[0m: 'Series' object has no attribute 'columns'"
     ]
    }
   ],
   "source": [
    "print(X_train)\n",
    "print(y_train.columns)"
   ]
  },
  {
   "cell_type": "code",
   "execution_count": null,
   "id": "72f41c38-9e38-4ef8-8914-57b3ce92df77",
   "metadata": {},
   "outputs": [],
   "source": []
  }
 ],
 "metadata": {
  "colab": {
   "provenance": []
  },
  "kernelspec": {
   "display_name": "Python 3 (ipykernel)",
   "language": "python",
   "name": "python3"
  },
  "language_info": {
   "codemirror_mode": {
    "name": "ipython",
    "version": 3
   },
   "file_extension": ".py",
   "mimetype": "text/x-python",
   "name": "python",
   "nbconvert_exporter": "python",
   "pygments_lexer": "ipython3",
   "version": "3.9.20"
  }
 },
 "nbformat": 4,
 "nbformat_minor": 5
}
